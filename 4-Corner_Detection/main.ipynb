{
 "cells": [
  {
   "attachments": {},
   "cell_type": "markdown",
   "metadata": {},
   "source": [
    "# Harris Corner Detection\n",
    "\n",
    "## Pendahuluan"
   ]
  },
  {
   "cell_type": "markdown",
   "metadata": {},
   "source": [
    "### Import library yang dibutuhkan"
   ]
  },
  {
   "cell_type": "code",
   "execution_count": 7,
   "metadata": {},
   "outputs": [],
   "source": [
    "import numpy as np\n",
    "import matplotlib.pyplot as plt\n",
    "import cv2\n",
    "\n",
    "from scipy import signal as sig\n",
    "from scipy import ndimage as ndi"
   ]
  },
  {
   "cell_type": "markdown",
   "metadata": {},
   "source": [
    "### Fungsi Penting"
   ]
  },
  {
   "cell_type": "code",
   "execution_count": 8,
   "metadata": {},
   "outputs": [],
   "source": [
    "def show_image(title, img) :\n",
    "    plt.figure(figsize= (20,20))\n",
    "    plt.imshow(img, cmap='gray')\n",
    "    plt.title(title)\n",
    "    plt.axis('off')\n",
    "    plt.show()\n"
   ]
  },
  {
   "cell_type": "markdown",
   "metadata": {},
   "source": [
    "### Baca dan Tampilkan Gambar"
   ]
  },
  {
   "cell_type": "code",
   "execution_count": 12,
   "metadata": {},
   "outputs": [
    {
     "data": {
      "image/png": "[encoded data removed]",
      "text/plain": [
       "<Figure size 1440x1440 with 1 Axes>"
      ]
     },
     "metadata": {
      "needs_background": "light"
     },
     "output_type": "display_data"
    }
   ],
   "source": [
    "from skimage.io import imread\n",
    "from skimage.color import rgb2gray\n",
    "\n",
    "img = imread('square.png')\n",
    "imggray = rgb2gray(img)\n",
    "\n",
    "show_image(\"Original Image\", img)"
   ]
  },
  {
   "cell_type": "markdown",
   "metadata": {},
   "source": [
    "## Harris Corner Detection\n",
    "\n",
    "Harris Corner Detection mendeteksi titik pojok dari suatu gambar dengan pendekatan matematika.\n",
    "\n",
    "Kita dapat mengenali titik pohok tersebut dengan melihat nilai intensitas dalam suatu window kecil.\n",
    "\n",
    "Dengan melakukan shifting pada window ke segala arah, kita dapat melakukan klasifikasi mana yang merupakan flat region, edge, atau bahkan korner\n",
    "\n",
    "Korner dapat terdeteksi apabila pada saat melakukan shifting pada window terdapat perubahan intensitas yang signifikan di segala arah.\n",
    "\n",
    "![Classification](classification.png)\n",
    "\n",
    "Perubahan intensitas dengan pergeseran $(u,v)$ dapat dituliskan dalam persamaan\n",
    "\n",
    "$$\n",
    "E(u,v) = \\sum_{x,y}w(x,y)[I(x+u, y+v)- I(x,y)]^2\n",
    "$$\n",
    "\n",
    "Dengan $w(x,y)$ adalah window function. Window function bisa dalam gaussian atau dalam binary (1 dalam window, dan 0 di outside)\n",
    "\n",
    "Dengan menggunakan deret taylor untuk fungsi 2D, kita dapat peroleh bahwa \n",
    "$$f(x+u, u+v) \\approx f(x,y) + uf_x(x,y)+ v f_y(x,y)$$\n",
    "\n",
    "Sehingga persamaan di atas dapat ditulis ulang menjadi\n",
    "\n",
    "$$\n",
    "E(u,v) = \\sum_{x,y}[I(x+u, y+v)- I(x,y)]^2 \\\\\n",
    "E(u,v) \\approx \\sum_{x,y}[I(x,y) + uI_x + vI_y - I(x,y)]^2 \\\\\n",
    "E(u,v) \\approx \\sum u^2I_x^2 + 2uvI_xI_y + v^2 I^2_y \\\\\n",
    "E(u,v) \\approx  \\sum \\begin{bmatrix} u & v\\end{bmatrix}  \\begin{bmatrix} I_x^2 & I_x I_y \\\\ I_x I_y & I_y^2  \\end{bmatrix} \\begin{bmatrix} u\\\\v \\end{bmatrix} \\\\\n",
    "E(u,v) \\approx  \\begin{bmatrix} u & v\\end{bmatrix}  (\\sum \\begin{bmatrix} I_x^2 & I_x I_y \\\\ I_x I_y & I_y^2  \\end{bmatrix})  \\begin{bmatrix} u\\\\v \\end{bmatrix} \n",
    "$$\n",
    "\n",
    "Untuk pergeseran kecil, dapat diaproksimasikan sebagai\n",
    "$$E(u,v) \\approx \\begin{bmatrix} u & v\\end{bmatrix}  M \\begin{bmatrix} u\\\\v \\end{bmatrix} \n",
    "$$\n",
    "Di mana $M$ adalah matriks $2 \\times 2$ yang dihitung dari turunan gambar \n",
    "\n",
    "$$\n",
    "M = \\sum_{x,y}[w(x,y)]\\begin{bmatrix} I_x^2 & I_x I_y \\\\ I_x I_y & I_y^2  \\end{bmatrix} \n",
    "$$ \n",
    "\n",
    "Setelah itu, kita menghitung corner response measure yang dirumuskan sebagai \n",
    "\n",
    "$$\n",
    "R = \\det{M} - k (trace(M))^2\\\\\n",
    "\\det M = \\lambda_1 \\lambda_2\\\\\n",
    "trace(M) = \\lambda_1+\\lambda_2\n",
    "$$\n",
    "Dengan $k$ adalah konstanta di mana $k=0.04-0.06$\n",
    "\n",
    "Nilai $R$ akan digunakan untuk klasifikasi <br>\n",
    "$R$ akan besar untuk sebuah corner <br>\n",
    "$R$ negatif dengan magn9itude yang besar untuk edge<br>\n",
    "$|R|$ kecil untuk flat region"
   ]
  },
  {
   "cell_type": "markdown",
   "metadata": {},
   "source": [
    "## Algortima Harris Corner\n",
    "\n",
    "1. Compute Gaussian derivatives at each pixel\n",
    "2. Compute second moment matrix M in a Gaussian window around each pixel\n",
    "3. Compute corner response function R\n",
    "4. Threshold R\n",
    "5. Find local maxima of response function (non-maximum suppression)"
   ]
  },
  {
   "cell_type": "markdown",
   "metadata": {},
   "source": [
    "### Step 1 - Compute Gaussian derivatives at each pixel"
   ]
  },
  {
   "cell_type": "code",
   "execution_count": 13,
   "metadata": {},
   "outputs": [],
   "source": [
    "from scipy import signal as sig\n",
    "import numpy as np\n",
    "\n",
    "def gradient(img):\n",
    "\n",
    "    '''\n",
    "    Fungsi untuk menghitung gradient (Gaussian Derivatives) dengan operator Sobel.\n",
    "    '''\n",
    "    \n",
    "    Mx = np.array([\n",
    "            [-1, 0, 1],\n",
    "            [-2, 0, 2],[\n",
    "            -1, 0, 1]])\n",
    "    \n",
    "    My = Mx.T\n",
    "    \n",
    "    f_x, f_y = sig.convolve2d(img, Mx, mode='same'), sig.convolve2d(img, My, mode='same')\n",
    "    \n",
    "    magnitude = np.sqrt(f_x ** 2 + f_y ** 2) \n",
    "    magnitude = magnitude / magnitude.max() * 255 # Melakukan pengskalaan agar terbatas sampai 255\n",
    "    direction = np.arctan2(f_y, f_x)\n",
    "    \n",
    "    return f_x, f_y, magnitude, direction\n",
    "\n",
    "\n",
    "# Hitung untuk turunan pertama terhadap sumbu x dan sumbu\n",
    "Ix, Iy, magnitude, direction = gradient(imggray)\n"
   ]
  },
  {
   "cell_type": "markdown",
   "metadata": {},
   "source": [
    "### Step 2 - Compute second moment matrix M in a Gaussian window around each pixel\n",
    "\n",
    "Dengan menggunakan fungsi pada scipy.ndimages, hitung turunan kedua (Second Moment) menggunakan Gaussian Window dengan dipilih $\\sigma =1 $. \n",
    "Matriks $M$ yang dimaksud adalah\n",
    "$$\n",
    "M = \\begin{bmatrix} I_x^2 & I_x I_y \\\\ I_x I_y & I_y^2  \\end{bmatrix} \n",
    "$$"
   ]
  },
  {
   "cell_type": "code",
   "execution_count": 14,
   "metadata": {},
   "outputs": [],
   "source": [
    "Ixx = ndi.gaussian_filter(Ix**2, sigma=1) # Turunan Ix terhadap x\n",
    "Ixy = ndi.gaussian_filter(Ix*Iy, sigma=1) # Turunan Ix terhadap y\n",
    "Iyy = ndi.gaussian_filter(Iy**2, sigma=1) # Turunan Iy terhadap y"
   ]
  },
  {
   "cell_type": "markdown",
   "metadata": {},
   "source": [
    "### Step 3 - Compute corner response function R\n",
    "\n",
    "Menghitung Corner Response R, di mana \n",
    "\n",
    "$$\n",
    "R = \\det{M} - k (trace(M))^2\\\\\n",
    "\\det M = I_{xx}  I_{yy} - I_{xy}^2\\\\\n",
    "trace(M) = I_{xx} + I_{yy}\n",
    "$$\n",
    "Dengan $k$ adalah konstanta di mana $k=0.04-0.06$\n",
    "\n",
    "Nilai $R$ akan digunakan untuk klasifikasi <br>\n",
    "$R$ akan besar untuk sebuah corner <br>\n",
    "$R$ negatif dengan magn9itude yang besar untuk edge<br>\n",
    "$|R|$ kecil untuk flat region"
   ]
  },
  {
   "cell_type": "code",
   "execution_count": 15,
   "metadata": {},
   "outputs": [],
   "source": [
    "# Dipilih k = 0.05\n",
    "k = 0.05\n",
    "\n",
    "# Hitung det(M)\n",
    "det_M = Ixx * Iyy - Ixy ** 2\n",
    "\n",
    "# hitung Trace(M)\n",
    "trace_M = Ixx + Iyy\n",
    "\n",
    "# hitung R\n",
    "R = det_M - k * (trace_M) ** 2"
   ]
  },
  {
   "cell_type": "markdown",
   "metadata": {},
   "source": [
    "### Step 4 - Thresholding\n",
    "\n",
    "Memilih nilai threshold untuk memilih mana batas yang bisa dikatakan sebagai corner"
   ]
  },
  {
   "cell_type": "code",
   "execution_count": 17,
   "metadata": {},
   "outputs": [
    {
     "name": "stdout",
     "output_type": "stream",
     "text": [
      "Threshold : 2.5500000000000003\n"
     ]
    }
   ],
   "source": [
    "img_with_corners = np.copy(img)\n",
    "img_with_corners = cv2.dilate(img_with_corners, None)\n",
    "\n",
    "threshold = 0.01 * img_with_corners.max()\n",
    "\n",
    "print(f\"Threshold : {threshold}\")"
   ]
  },
  {
   "cell_type": "markdown",
   "metadata": {},
   "source": [
    "### Step 5 - Find local maxima of response function (non-maximum suppression)"
   ]
  },
  {
   "cell_type": "code",
   "execution_count": 18,
   "metadata": {},
   "outputs": [
    {
     "data": {
      "image/png": "[encoded data removed]",
      "text/plain": [
       "<Figure size 1440x1440 with 1 Axes>"
      ]
     },
     "metadata": {
      "needs_background": "light"
     },
     "output_type": "display_data"
    }
   ],
   "source": [
    "# Melakukan looping untuk menandai setiap corner (corner : R > threshold)\n",
    "for y, res in enumerate(R):\n",
    "    for x, r in enumerate(res):\n",
    "        if r > threshold: # Supress semua corner yang di bawah nilai threshold. (Non Maxima Supression)\n",
    "            img_with_corners[y, x] = [255,0,0] # Jika dia adalah thershold, beri warna merah\n",
    "\n",
    "show_image('Final Image', img_with_corners)"
   ]
  },
  {
   "cell_type": "code",
   "execution_count": 17,
   "metadata": {},
   "outputs": [
    {
     "name": "stdout",
     "output_type": "stream",
     "text": [
      "[[0 0 0 0]\n",
      " [0 0 0 0]\n",
      " [0 0 0 0]\n",
      " [0 0 0 0]]\n"
     ]
    }
   ],
   "source": [
    "import  cv2\n",
    "import numpy as np\n",
    "\n",
    "from scipy import signal as sig\n",
    "\n",
    "mat = np.array(\n",
    "    [\n",
    "        [25,22,20,17],\n",
    "        [25,28,19,17],\n",
    "        [20,19,19,17],\n",
    "        [15,15,15,15]\n",
    "    ]\n",
    ")\n",
    "\n",
    "scale_1 = 1\n",
    "scale_2 = 2\n",
    "scale_3 = 3\n",
    "scale_4 = 4\n",
    "scale_5 = 5\n",
    "\n",
    "dog_1 = mat - scale_1 * mat\n",
    "\n",
    "print(dog_1)"
   ]
  },
  {
   "cell_type": "code",
   "execution_count": null,
   "metadata": {},
   "outputs": [],
   "source": []
  }
 ],
 "metadata": {
  "kernelspec": {
   "display_name": "Python 3.9.12 ('base')",
   "language": "python",
   "name": "python3"
  },
  "language_info": {
   "codemirror_mode": {
    "name": "ipython",
    "version": 3
   },
   "file_extension": ".py",
   "mimetype": "text/x-python",
   "name": "python",
   "nbconvert_exporter": "python",
   "pygments_lexer": "ipython3",
   "version": "3.9.12 (main, Apr  4 2022, 05:22:27) [MSC v.1916 64 bit (AMD64)]"
  },
  "orig_nbformat": 4,
  "vscode": {
   "interpreter": {
    "hash": "690fcc030dbde6f3f652c519b06a0d95da528e66105ed58c88e506e5818277cb"
   }
  }
 },
 "nbformat": 4,
 "nbformat_minor": 2
}
